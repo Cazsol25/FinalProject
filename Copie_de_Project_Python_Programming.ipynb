{
  "nbformat": 4,
  "nbformat_minor": 0,
  "metadata": {
    "colab": {
      "provenance": [],
      "mount_file_id": "11EPDrO36dsgZGk5W5YufUZbze5rZWuca",
      "authorship_tag": "ABX9TyN7xhCSmw05ojV5HDFJUPBE",
      "include_colab_link": true
    },
    "kernelspec": {
      "name": "python3",
      "display_name": "Python 3"
    },
    "language_info": {
      "name": "python"
    }
  },
  "cells": [
    {
      "cell_type": "markdown",
      "metadata": {
        "id": "view-in-github",
        "colab_type": "text"
      },
      "source": [
        "<a href=\"https://colab.research.google.com/github/Cazsol25/FinalProject/blob/main/Copie_de_Project_Python_Programming.ipynb\" target=\"_parent\"><img src=\"https://colab.research.google.com/assets/colab-badge.svg\" alt=\"Open In Colab\"/></a>"
      ]
    },
    {
      "cell_type": "markdown",
      "source": [
        "**Step 1: Select a Dataset (canteen_shop_data)**"
      ],
      "metadata": {
        "id": "Bjb9CTW_lXj6"
      }
    },
    {
      "cell_type": "code",
      "source": [
        "canteen = pd.read_csv(\"https://raw.githubusercontent.com/Cazsol25/FinalProject/refs/heads/main/canteen_shop_data.csv\")\n",
        "canteen.head()"
      ],
      "metadata": {
        "colab": {
          "base_uri": "https://localhost:8080/",
          "height": 206
        },
        "id": "WtkKc2bPLRIC",
        "outputId": "d9635b3b-b603-4634-b5c1-3d3305de54da"
      },
      "execution_count": 86,
      "outputs": [
        {
          "output_type": "execute_result",
          "data": {
            "text/plain": [
              "         Date   Time      Item  Price  Quantity  Total  Customer ID  \\\n",
              "0  2024-04-01  12:15  Sandwich    4.5         2    9.0            1   \n",
              "1  2024-04-01  12:30     Drink    1.5         1    1.5            2   \n",
              "2  2024-04-01  12:45     Salad    5.0         1    5.0            3   \n",
              "3  2024-04-01  13:00    Burger    5.5         1    5.5            4   \n",
              "4  2024-04-01  13:15  Sandwich    4.5         1    4.5            5   \n",
              "\n",
              "   Payment Method  Employee ID  Customer Satisfaction Weather Special Offers  \n",
              "0            Cash          101                      4   Sunny            Yes  \n",
              "1            Card          102                      3   Sunny             No  \n",
              "2  Mobile Payment          103                      5  Cloudy            Yes  \n",
              "3            Cash          104                      4   Sunny             No  \n",
              "4            Card          105                      3   Sunny            Yes  "
            ],
            "text/html": [
              "\n",
              "  <div id=\"df-475a8f55-b80f-47aa-a669-7e5c0dfa424c\" class=\"colab-df-container\">\n",
              "    <div>\n",
              "<style scoped>\n",
              "    .dataframe tbody tr th:only-of-type {\n",
              "        vertical-align: middle;\n",
              "    }\n",
              "\n",
              "    .dataframe tbody tr th {\n",
              "        vertical-align: top;\n",
              "    }\n",
              "\n",
              "    .dataframe thead th {\n",
              "        text-align: right;\n",
              "    }\n",
              "</style>\n",
              "<table border=\"1\" class=\"dataframe\">\n",
              "  <thead>\n",
              "    <tr style=\"text-align: right;\">\n",
              "      <th></th>\n",
              "      <th>Date</th>\n",
              "      <th>Time</th>\n",
              "      <th>Item</th>\n",
              "      <th>Price</th>\n",
              "      <th>Quantity</th>\n",
              "      <th>Total</th>\n",
              "      <th>Customer ID</th>\n",
              "      <th>Payment Method</th>\n",
              "      <th>Employee ID</th>\n",
              "      <th>Customer Satisfaction</th>\n",
              "      <th>Weather</th>\n",
              "      <th>Special Offers</th>\n",
              "    </tr>\n",
              "  </thead>\n",
              "  <tbody>\n",
              "    <tr>\n",
              "      <th>0</th>\n",
              "      <td>2024-04-01</td>\n",
              "      <td>12:15</td>\n",
              "      <td>Sandwich</td>\n",
              "      <td>4.5</td>\n",
              "      <td>2</td>\n",
              "      <td>9.0</td>\n",
              "      <td>1</td>\n",
              "      <td>Cash</td>\n",
              "      <td>101</td>\n",
              "      <td>4</td>\n",
              "      <td>Sunny</td>\n",
              "      <td>Yes</td>\n",
              "    </tr>\n",
              "    <tr>\n",
              "      <th>1</th>\n",
              "      <td>2024-04-01</td>\n",
              "      <td>12:30</td>\n",
              "      <td>Drink</td>\n",
              "      <td>1.5</td>\n",
              "      <td>1</td>\n",
              "      <td>1.5</td>\n",
              "      <td>2</td>\n",
              "      <td>Card</td>\n",
              "      <td>102</td>\n",
              "      <td>3</td>\n",
              "      <td>Sunny</td>\n",
              "      <td>No</td>\n",
              "    </tr>\n",
              "    <tr>\n",
              "      <th>2</th>\n",
              "      <td>2024-04-01</td>\n",
              "      <td>12:45</td>\n",
              "      <td>Salad</td>\n",
              "      <td>5.0</td>\n",
              "      <td>1</td>\n",
              "      <td>5.0</td>\n",
              "      <td>3</td>\n",
              "      <td>Mobile Payment</td>\n",
              "      <td>103</td>\n",
              "      <td>5</td>\n",
              "      <td>Cloudy</td>\n",
              "      <td>Yes</td>\n",
              "    </tr>\n",
              "    <tr>\n",
              "      <th>3</th>\n",
              "      <td>2024-04-01</td>\n",
              "      <td>13:00</td>\n",
              "      <td>Burger</td>\n",
              "      <td>5.5</td>\n",
              "      <td>1</td>\n",
              "      <td>5.5</td>\n",
              "      <td>4</td>\n",
              "      <td>Cash</td>\n",
              "      <td>104</td>\n",
              "      <td>4</td>\n",
              "      <td>Sunny</td>\n",
              "      <td>No</td>\n",
              "    </tr>\n",
              "    <tr>\n",
              "      <th>4</th>\n",
              "      <td>2024-04-01</td>\n",
              "      <td>13:15</td>\n",
              "      <td>Sandwich</td>\n",
              "      <td>4.5</td>\n",
              "      <td>1</td>\n",
              "      <td>4.5</td>\n",
              "      <td>5</td>\n",
              "      <td>Card</td>\n",
              "      <td>105</td>\n",
              "      <td>3</td>\n",
              "      <td>Sunny</td>\n",
              "      <td>Yes</td>\n",
              "    </tr>\n",
              "  </tbody>\n",
              "</table>\n",
              "</div>\n",
              "    <div class=\"colab-df-buttons\">\n",
              "\n",
              "  <div class=\"colab-df-container\">\n",
              "    <button class=\"colab-df-convert\" onclick=\"convertToInteractive('df-475a8f55-b80f-47aa-a669-7e5c0dfa424c')\"\n",
              "            title=\"Convert this dataframe to an interactive table.\"\n",
              "            style=\"display:none;\">\n",
              "\n",
              "  <svg xmlns=\"http://www.w3.org/2000/svg\" height=\"24px\" viewBox=\"0 -960 960 960\">\n",
              "    <path d=\"M120-120v-720h720v720H120Zm60-500h600v-160H180v160Zm220 220h160v-160H400v160Zm0 220h160v-160H400v160ZM180-400h160v-160H180v160Zm440 0h160v-160H620v160ZM180-180h160v-160H180v160Zm440 0h160v-160H620v160Z\"/>\n",
              "  </svg>\n",
              "    </button>\n",
              "\n",
              "  <style>\n",
              "    .colab-df-container {\n",
              "      display:flex;\n",
              "      gap: 12px;\n",
              "    }\n",
              "\n",
              "    .colab-df-convert {\n",
              "      background-color: #E8F0FE;\n",
              "      border: none;\n",
              "      border-radius: 50%;\n",
              "      cursor: pointer;\n",
              "      display: none;\n",
              "      fill: #1967D2;\n",
              "      height: 32px;\n",
              "      padding: 0 0 0 0;\n",
              "      width: 32px;\n",
              "    }\n",
              "\n",
              "    .colab-df-convert:hover {\n",
              "      background-color: #E2EBFA;\n",
              "      box-shadow: 0px 1px 2px rgba(60, 64, 67, 0.3), 0px 1px 3px 1px rgba(60, 64, 67, 0.15);\n",
              "      fill: #174EA6;\n",
              "    }\n",
              "\n",
              "    .colab-df-buttons div {\n",
              "      margin-bottom: 4px;\n",
              "    }\n",
              "\n",
              "    [theme=dark] .colab-df-convert {\n",
              "      background-color: #3B4455;\n",
              "      fill: #D2E3FC;\n",
              "    }\n",
              "\n",
              "    [theme=dark] .colab-df-convert:hover {\n",
              "      background-color: #434B5C;\n",
              "      box-shadow: 0px 1px 3px 1px rgba(0, 0, 0, 0.15);\n",
              "      filter: drop-shadow(0px 1px 2px rgba(0, 0, 0, 0.3));\n",
              "      fill: #FFFFFF;\n",
              "    }\n",
              "  </style>\n",
              "\n",
              "    <script>\n",
              "      const buttonEl =\n",
              "        document.querySelector('#df-475a8f55-b80f-47aa-a669-7e5c0dfa424c button.colab-df-convert');\n",
              "      buttonEl.style.display =\n",
              "        google.colab.kernel.accessAllowed ? 'block' : 'none';\n",
              "\n",
              "      async function convertToInteractive(key) {\n",
              "        const element = document.querySelector('#df-475a8f55-b80f-47aa-a669-7e5c0dfa424c');\n",
              "        const dataTable =\n",
              "          await google.colab.kernel.invokeFunction('convertToInteractive',\n",
              "                                                    [key], {});\n",
              "        if (!dataTable) return;\n",
              "\n",
              "        const docLinkHtml = 'Like what you see? Visit the ' +\n",
              "          '<a target=\"_blank\" href=https://colab.research.google.com/notebooks/data_table.ipynb>data table notebook</a>'\n",
              "          + ' to learn more about interactive tables.';\n",
              "        element.innerHTML = '';\n",
              "        dataTable['output_type'] = 'display_data';\n",
              "        await google.colab.output.renderOutput(dataTable, element);\n",
              "        const docLink = document.createElement('div');\n",
              "        docLink.innerHTML = docLinkHtml;\n",
              "        element.appendChild(docLink);\n",
              "      }\n",
              "    </script>\n",
              "  </div>\n",
              "\n",
              "\n",
              "<div id=\"df-d5390428-f5ce-4f2e-8742-f576488436f4\">\n",
              "  <button class=\"colab-df-quickchart\" onclick=\"quickchart('df-d5390428-f5ce-4f2e-8742-f576488436f4')\"\n",
              "            title=\"Suggest charts\"\n",
              "            style=\"display:none;\">\n",
              "\n",
              "<svg xmlns=\"http://www.w3.org/2000/svg\" height=\"24px\"viewBox=\"0 0 24 24\"\n",
              "     width=\"24px\">\n",
              "    <g>\n",
              "        <path d=\"M19 3H5c-1.1 0-2 .9-2 2v14c0 1.1.9 2 2 2h14c1.1 0 2-.9 2-2V5c0-1.1-.9-2-2-2zM9 17H7v-7h2v7zm4 0h-2V7h2v10zm4 0h-2v-4h2v4z\"/>\n",
              "    </g>\n",
              "</svg>\n",
              "  </button>\n",
              "\n",
              "<style>\n",
              "  .colab-df-quickchart {\n",
              "      --bg-color: #E8F0FE;\n",
              "      --fill-color: #1967D2;\n",
              "      --hover-bg-color: #E2EBFA;\n",
              "      --hover-fill-color: #174EA6;\n",
              "      --disabled-fill-color: #AAA;\n",
              "      --disabled-bg-color: #DDD;\n",
              "  }\n",
              "\n",
              "  [theme=dark] .colab-df-quickchart {\n",
              "      --bg-color: #3B4455;\n",
              "      --fill-color: #D2E3FC;\n",
              "      --hover-bg-color: #434B5C;\n",
              "      --hover-fill-color: #FFFFFF;\n",
              "      --disabled-bg-color: #3B4455;\n",
              "      --disabled-fill-color: #666;\n",
              "  }\n",
              "\n",
              "  .colab-df-quickchart {\n",
              "    background-color: var(--bg-color);\n",
              "    border: none;\n",
              "    border-radius: 50%;\n",
              "    cursor: pointer;\n",
              "    display: none;\n",
              "    fill: var(--fill-color);\n",
              "    height: 32px;\n",
              "    padding: 0;\n",
              "    width: 32px;\n",
              "  }\n",
              "\n",
              "  .colab-df-quickchart:hover {\n",
              "    background-color: var(--hover-bg-color);\n",
              "    box-shadow: 0 1px 2px rgba(60, 64, 67, 0.3), 0 1px 3px 1px rgba(60, 64, 67, 0.15);\n",
              "    fill: var(--button-hover-fill-color);\n",
              "  }\n",
              "\n",
              "  .colab-df-quickchart-complete:disabled,\n",
              "  .colab-df-quickchart-complete:disabled:hover {\n",
              "    background-color: var(--disabled-bg-color);\n",
              "    fill: var(--disabled-fill-color);\n",
              "    box-shadow: none;\n",
              "  }\n",
              "\n",
              "  .colab-df-spinner {\n",
              "    border: 2px solid var(--fill-color);\n",
              "    border-color: transparent;\n",
              "    border-bottom-color: var(--fill-color);\n",
              "    animation:\n",
              "      spin 1s steps(1) infinite;\n",
              "  }\n",
              "\n",
              "  @keyframes spin {\n",
              "    0% {\n",
              "      border-color: transparent;\n",
              "      border-bottom-color: var(--fill-color);\n",
              "      border-left-color: var(--fill-color);\n",
              "    }\n",
              "    20% {\n",
              "      border-color: transparent;\n",
              "      border-left-color: var(--fill-color);\n",
              "      border-top-color: var(--fill-color);\n",
              "    }\n",
              "    30% {\n",
              "      border-color: transparent;\n",
              "      border-left-color: var(--fill-color);\n",
              "      border-top-color: var(--fill-color);\n",
              "      border-right-color: var(--fill-color);\n",
              "    }\n",
              "    40% {\n",
              "      border-color: transparent;\n",
              "      border-right-color: var(--fill-color);\n",
              "      border-top-color: var(--fill-color);\n",
              "    }\n",
              "    60% {\n",
              "      border-color: transparent;\n",
              "      border-right-color: var(--fill-color);\n",
              "    }\n",
              "    80% {\n",
              "      border-color: transparent;\n",
              "      border-right-color: var(--fill-color);\n",
              "      border-bottom-color: var(--fill-color);\n",
              "    }\n",
              "    90% {\n",
              "      border-color: transparent;\n",
              "      border-bottom-color: var(--fill-color);\n",
              "    }\n",
              "  }\n",
              "</style>\n",
              "\n",
              "  <script>\n",
              "    async function quickchart(key) {\n",
              "      const quickchartButtonEl =\n",
              "        document.querySelector('#' + key + ' button');\n",
              "      quickchartButtonEl.disabled = true;  // To prevent multiple clicks.\n",
              "      quickchartButtonEl.classList.add('colab-df-spinner');\n",
              "      try {\n",
              "        const charts = await google.colab.kernel.invokeFunction(\n",
              "            'suggestCharts', [key], {});\n",
              "      } catch (error) {\n",
              "        console.error('Error during call to suggestCharts:', error);\n",
              "      }\n",
              "      quickchartButtonEl.classList.remove('colab-df-spinner');\n",
              "      quickchartButtonEl.classList.add('colab-df-quickchart-complete');\n",
              "    }\n",
              "    (() => {\n",
              "      let quickchartButtonEl =\n",
              "        document.querySelector('#df-d5390428-f5ce-4f2e-8742-f576488436f4 button');\n",
              "      quickchartButtonEl.style.display =\n",
              "        google.colab.kernel.accessAllowed ? 'block' : 'none';\n",
              "    })();\n",
              "  </script>\n",
              "</div>\n",
              "\n",
              "    </div>\n",
              "  </div>\n"
            ],
            "application/vnd.google.colaboratory.intrinsic+json": {
              "type": "dataframe",
              "variable_name": "canteen",
              "summary": "{\n  \"name\": \"canteen\",\n  \"rows\": 200,\n  \"fields\": [\n    {\n      \"column\": \"Date\",\n      \"properties\": {\n        \"dtype\": \"object\",\n        \"num_unique_values\": 25,\n        \"samples\": [\n          \"2024-04-09\",\n          \"2024-04-17\",\n          \"2024-04-01\"\n        ],\n        \"semantic_type\": \"\",\n        \"description\": \"\"\n      }\n    },\n    {\n      \"column\": \"Time\",\n      \"properties\": {\n        \"dtype\": \"object\",\n        \"num_unique_values\": 9,\n        \"samples\": [\n          \"14:00\",\n          \"12:30\",\n          \"13:30\"\n        ],\n        \"semantic_type\": \"\",\n        \"description\": \"\"\n      }\n    },\n    {\n      \"column\": \"Item\",\n      \"properties\": {\n        \"dtype\": \"category\",\n        \"num_unique_values\": 4,\n        \"samples\": [\n          \"Drink\",\n          \"Burger\",\n          \"Sandwich\"\n        ],\n        \"semantic_type\": \"\",\n        \"description\": \"\"\n      }\n    },\n    {\n      \"column\": \"Price\",\n      \"properties\": {\n        \"dtype\": \"number\",\n        \"std\": 1.5601426941567407,\n        \"min\": 1.5,\n        \"max\": 5.5,\n        \"num_unique_values\": 4,\n        \"samples\": [\n          1.5,\n          5.5,\n          4.5\n        ],\n        \"semantic_type\": \"\",\n        \"description\": \"\"\n      }\n    },\n    {\n      \"column\": \"Quantity\",\n      \"properties\": {\n        \"dtype\": \"number\",\n        \"std\": 0,\n        \"min\": 1,\n        \"max\": 2,\n        \"num_unique_values\": 2,\n        \"samples\": [\n          1,\n          2\n        ],\n        \"semantic_type\": \"\",\n        \"description\": \"\"\n      }\n    },\n    {\n      \"column\": \"Total\",\n      \"properties\": {\n        \"dtype\": \"number\",\n        \"std\": 3.3598127490297323,\n        \"min\": 1.5,\n        \"max\": 11.0,\n        \"num_unique_values\": 8,\n        \"samples\": [\n          1.5,\n          3.0\n        ],\n        \"semantic_type\": \"\",\n        \"description\": \"\"\n      }\n    },\n    {\n      \"column\": \"Customer ID\",\n      \"properties\": {\n        \"dtype\": \"number\",\n        \"std\": 57,\n        \"min\": 1,\n        \"max\": 200,\n        \"num_unique_values\": 200,\n        \"samples\": [\n          96,\n          16\n        ],\n        \"semantic_type\": \"\",\n        \"description\": \"\"\n      }\n    },\n    {\n      \"column\": \"Payment Method\",\n      \"properties\": {\n        \"dtype\": \"category\",\n        \"num_unique_values\": 3,\n        \"samples\": [\n          \"Cash\",\n          \"Card\"\n        ],\n        \"semantic_type\": \"\",\n        \"description\": \"\"\n      }\n    },\n    {\n      \"column\": \"Employee ID\",\n      \"properties\": {\n        \"dtype\": \"number\",\n        \"std\": 57,\n        \"min\": 101,\n        \"max\": 300,\n        \"num_unique_values\": 200,\n        \"samples\": [\n          196,\n          116\n        ],\n        \"semantic_type\": \"\",\n        \"description\": \"\"\n      }\n    },\n    {\n      \"column\": \"Customer Satisfaction\",\n      \"properties\": {\n        \"dtype\": \"number\",\n        \"std\": 0,\n        \"min\": 3,\n        \"max\": 5,\n        \"num_unique_values\": 3,\n        \"samples\": [\n          4,\n          3\n        ],\n        \"semantic_type\": \"\",\n        \"description\": \"\"\n      }\n    },\n    {\n      \"column\": \"Weather\",\n      \"properties\": {\n        \"dtype\": \"category\",\n        \"num_unique_values\": 3,\n        \"samples\": [\n          \"Sunny\",\n          \"Cloudy\"\n        ],\n        \"semantic_type\": \"\",\n        \"description\": \"\"\n      }\n    },\n    {\n      \"column\": \"Special Offers\",\n      \"properties\": {\n        \"dtype\": \"category\",\n        \"num_unique_values\": 2,\n        \"samples\": [\n          \"No\",\n          \"Yes\"\n        ],\n        \"semantic_type\": \"\",\n        \"description\": \"\"\n      }\n    }\n  ]\n}"
            }
          },
          "metadata": {},
          "execution_count": 86
        }
      ]
    },
    {
      "cell_type": "markdown",
      "source": [
        "**Step 2: Tasks and Requirements**"
      ],
      "metadata": {
        "id": "JzQKWfspmHX5"
      }
    },
    {
      "cell_type": "markdown",
      "source": [
        "**2.1 Basic Python Programming**"
      ],
      "metadata": {
        "id": "L1gPadOgmRUY"
      }
    },
    {
      "cell_type": "markdown",
      "source": [
        "2.1.1 Variables :"
      ],
      "metadata": {
        "id": "_5SNx4yrmu-U"
      }
    },
    {
      "cell_type": "code",
      "source": [
        "# first of all, I will create variables"
      ],
      "metadata": {
        "id": "9CxXKa8XomVb"
      },
      "execution_count": null,
      "outputs": []
    },
    {
      "cell_type": "code",
      "source": [
        "shop_name = \"Canteen Delights\"\n",
        "start_date = \"2024-04-01\"\n",
        "end_date = \"2024-04-25\"\n",
        "Customer_ID = \"Customer ID\"\n",
        "date_to_analyze = \"Date\""
      ],
      "metadata": {
        "id": "jZW9QxSNoZDW"
      },
      "execution_count": 90,
      "outputs": []
    },
    {
      "cell_type": "markdown",
      "source": [
        "2.1.2 Lists :"
      ],
      "metadata": {
        "id": "tJCjbaiem2o1"
      }
    },
    {
      "cell_type": "code",
      "source": [
        "#Here I list the different types of food as well as payment methods"
      ],
      "metadata": {
        "id": "f7szw9lOB4-g"
      },
      "execution_count": null,
      "outputs": []
    },
    {
      "cell_type": "code",
      "source": [
        "menu_items = [\"Sandwich\", \"Drink\", \"Salad\", \"Burger\"]\n",
        "payment_methods = [\"Cash\", \"Card\", \"Mobile Payment\"]"
      ],
      "metadata": {
        "id": "R9bB1T0Mocmp"
      },
      "execution_count": 88,
      "outputs": []
    },
    {
      "cell_type": "markdown",
      "source": [
        "2.1.3 Dictionnary :"
      ],
      "metadata": {
        "id": "zoWoCaDgm7Iq"
      }
    },
    {
      "cell_type": "code",
      "source": [
        "# For the dictionnary I defined personal information about employees which are their name and their job"
      ],
      "metadata": {
        "id": "QM7lVxNqC8Gk"
      },
      "execution_count": null,
      "outputs": []
    },
    {
      "cell_type": "code",
      "source": [
        "employee_info = {\n",
        "    101: {\"name\": \"Jean\", \"Job\": \"Cashier\"},\n",
        "    102: {\"name\": \"Chloe\", \"Job\": \"Server\"},\n",
        "    103: {\"name\": \"Arthur\", \"Job\": \"Head Chef\"},\n",
        "    }"
      ],
      "metadata": {
        "id": "Q_6xeMrHpHRc"
      },
      "execution_count": 92,
      "outputs": []
    },
    {
      "cell_type": "markdown",
      "source": [
        "2.1.4 Loops :"
      ],
      "metadata": {
        "id": "Iyr8b7vEnCbZ"
      }
    },
    {
      "cell_type": "code",
      "source": [
        "# Here I integer loops to find the food menu"
      ],
      "metadata": {
        "id": "cjaLAP5VE2sw"
      },
      "execution_count": null,
      "outputs": []
    },
    {
      "cell_type": "code",
      "source": [
        "print(\"Menu Items:\")\n",
        "for item in menu_items:\n",
        "  print(f\" {item}\")"
      ],
      "metadata": {
        "colab": {
          "base_uri": "https://localhost:8080/"
        },
        "id": "zNlamOs2DL5Y",
        "outputId": "f34f6c75-0b40-4d3a-952b-168313550c65"
      },
      "execution_count": null,
      "outputs": [
        {
          "output_type": "stream",
          "name": "stdout",
          "text": [
            "Menu Items:\n",
            " Sandwich\n",
            " Drink\n",
            " Salad\n",
            " Burger\n"
          ]
        }
      ]
    },
    {
      "cell_type": "code",
      "source": [
        "# I also use loops in order to find employees information that are associated with their employee ID"
      ],
      "metadata": {
        "id": "kg7WJICoFCXH"
      },
      "execution_count": null,
      "outputs": []
    },
    {
      "cell_type": "code",
      "source": [
        "print(\"Employee Information :\")\n",
        "for emp_id, info in employee_info.items():\n",
        "    print(f\"Employee ID: {emp_id}, Name: {info['name']}, Job: {info['Job']}\")"
      ],
      "metadata": {
        "colab": {
          "base_uri": "https://localhost:8080/"
        },
        "id": "UJp3jhvGDPeF",
        "outputId": "0239c9fe-0edb-4d06-a46e-c00de495719b"
      },
      "execution_count": null,
      "outputs": [
        {
          "output_type": "stream",
          "name": "stdout",
          "text": [
            "Employee Information :\n",
            "Employee ID: 101, Name: Jean, Job: Cashier\n",
            "Employee ID: 102, Name: Chloe, Job: Server\n",
            "Employee ID: 103, Name: Arthur, Job: Head Chef\n"
          ]
        }
      ]
    },
    {
      "cell_type": "markdown",
      "source": [
        "2.1.5 Conditional Statement :"
      ],
      "metadata": {
        "id": "g9JM5WimndOb"
      }
    },
    {
      "cell_type": "code",
      "source": [
        "# Conditional statement"
      ],
      "metadata": {
        "id": "pkWIojdJJ22S"
      },
      "execution_count": null,
      "outputs": []
    },
    {
      "cell_type": "code",
      "source": [
        "def analyze_customer_satisfaction(satisfaction_score):\n",
        "  \"\"\"Analyzes the customer satisfaction score and returns a comment\"\"\"\n",
        "  if satisfaction_score == 5 :\n",
        "    return \"Very satisfied\"\n",
        "  elif satisfaction_score == 4 :\n",
        "    return \"Satisfied\"\n",
        "  elif satisfaction_score == 3 :\n",
        "    return \"Neutral\"\n",
        "  elif satisfaction_score == 2 :\n",
        "    return \"Dissatisfied\"\n",
        "  elif satisfaction_score == 1 :\n",
        "    return \"Very dissatisfied\"\n",
        "  else :\n",
        "    return \"Invalid Satisfaction Score\"\n",
        "print(\"Customer satisfaction analysis :\")\n",
        "print(analyze_customer_satisfaction(4))\n",
        "print(analyze_customer_satisfaction(1))\n",
        "print(analyze_customer_satisfaction(3))"
      ],
      "metadata": {
        "colab": {
          "base_uri": "https://localhost:8080/"
        },
        "id": "MyBGkvVSFdV4",
        "outputId": "337bc910-8424-4668-88c9-87a67afe6ade"
      },
      "execution_count": null,
      "outputs": [
        {
          "output_type": "stream",
          "name": "stdout",
          "text": [
            "Customer satisfaction analysis :\n",
            "Satisfied\n",
            "Very dissatisfied\n",
            "Neutral\n"
          ]
        }
      ]
    },
    {
      "cell_type": "markdown",
      "source": [
        "2.1.6 Reusable Function :"
      ],
      "metadata": {
        "id": "frVuJ_kZnn43"
      }
    },
    {
      "cell_type": "code",
      "source": [
        "# Reusable Function :  Calculates the total and average revenue for a given date"
      ],
      "metadata": {
        "id": "Zc7NkAI3I5lw"
      },
      "execution_count": null,
      "outputs": []
    },
    {
      "cell_type": "code",
      "source": [
        "def calculate_average_daily_revenue(canteen, date):\n",
        "  transactions_for_date = canteen[canteen[\"Date\"] == date]\n",
        "  if len(transactions_for_date) == 0:\n",
        "    return None, None\n",
        "  total_revenue = transactions_for_date[\"Total\"].sum()\n",
        "  average_revenue = transactions_for_date[\"Total\"].mean()\n",
        "  return total_revenue, average_revenue\n",
        "\n",
        "date_to_analyze = \"2024-04-12\"\n",
        "transactions_for_date = canteen[canteen[\"Date\"] == date_to_analyze]\n",
        "total_revenue = transactions_for_date[\"Total\"].sum()\n",
        "average_revenue = transactions_for_date[\"Total\"].mean()\n",
        "\n",
        "total_revenue, average_revenue = calculate_average_daily_revenue(canteen, date_to_analyze)\n",
        "\n",
        "if total_revenue is not None:\n",
        "    print(f\"Daily Revenue Analysis for {date_to_analyze} :\")\n",
        "    print(f\"Total Revenue: {total_revenue}$\")\n",
        "    print(f\"Average Transaction Revenue: {average_revenue}$\")\n",
        "else:\n",
        "     print(f\"No transactions for {date_to_analyze} found.\")"
      ],
      "metadata": {
        "colab": {
          "base_uri": "https://localhost:8080/"
        },
        "id": "KkIvcU32R9tD",
        "outputId": "b7c44aa5-f866-444d-815a-ca0905bda7e9"
      },
      "execution_count": 94,
      "outputs": [
        {
          "output_type": "stream",
          "name": "stdout",
          "text": [
            "Daily Revenue Analysis for 2024-04-12 :\n",
            "Total Revenue: 48.0$\n",
            "Average Transaction Revenue: 6.0$\n"
          ]
        }
      ]
    },
    {
      "cell_type": "markdown",
      "source": [
        "**2.2 Data Manipulation :**"
      ],
      "metadata": {
        "id": "bkHk8mBareo2"
      }
    },
    {
      "cell_type": "markdown",
      "source": [
        "2.2.1 Load Data :"
      ],
      "metadata": {
        "id": "V1RNa5oBr3zM"
      }
    },
    {
      "cell_type": "code",
      "source": [
        "# First of all I will Load Data"
      ],
      "metadata": {
        "id": "iDWKF3TYMOLa"
      },
      "execution_count": null,
      "outputs": []
    },
    {
      "cell_type": "code",
      "source": [
        "import pandas as pd"
      ],
      "metadata": {
        "id": "6U6L32RIMYuW"
      },
      "execution_count": null,
      "outputs": []
    },
    {
      "cell_type": "code",
      "source": [
        "canteen = pd.read_csv(\"canteen_shop_data.csv\")"
      ],
      "metadata": {
        "id": "85NIBZNGMFSB"
      },
      "execution_count": null,
      "outputs": []
    },
    {
      "cell_type": "markdown",
      "source": [
        "2.2.2 Inspect Data :"
      ],
      "metadata": {
        "id": "G8_N3gM7tLQo"
      }
    },
    {
      "cell_type": "code",
      "source": [
        "# In a second time I Inspect Data with first the head of the data set to see if data looks relevant"
      ],
      "metadata": {
        "id": "wbwthxydNXlM"
      },
      "execution_count": null,
      "outputs": []
    },
    {
      "cell_type": "code",
      "source": [
        "print(\"Initial Data Inspection\")\n",
        "print(canteen.head())"
      ],
      "metadata": {
        "colab": {
          "base_uri": "https://localhost:8080/"
        },
        "id": "C8O7vpttMHCb",
        "outputId": "2fca8db7-16ec-4481-9f71-f0beec72ef55"
      },
      "execution_count": null,
      "outputs": [
        {
          "output_type": "stream",
          "name": "stdout",
          "text": [
            "Initial Data Inspection\n",
            "         Date   Time      Item  Price  Quantity  Total  Customer ID  \\\n",
            "0  2024-04-01  12:15  Sandwich    4.5         2    9.0            1   \n",
            "1  2024-04-01  12:30     Drink    1.5         1    1.5            2   \n",
            "2  2024-04-01  12:45     Salad    5.0         1    5.0            3   \n",
            "3  2024-04-01  13:00    Burger    5.5         1    5.5            4   \n",
            "4  2024-04-01  13:15  Sandwich    4.5         1    4.5            5   \n",
            "\n",
            "   Payment Method  Employee ID  Customer Satisfaction Weather Special Offers  \n",
            "0            Cash          101                      4   Sunny            Yes  \n",
            "1            Card          102                      3   Sunny             No  \n",
            "2  Mobile Payment          103                      5  Cloudy            Yes  \n",
            "3            Cash          104                      4   Sunny             No  \n",
            "4            Card          105                      3   Sunny            Yes  \n"
          ]
        }
      ]
    },
    {
      "cell_type": "code",
      "source": [
        "print(canteen.info())"
      ],
      "metadata": {
        "colab": {
          "base_uri": "https://localhost:8080/"
        },
        "id": "TmsRxDr2OTqM",
        "outputId": "806f7bc0-b6f1-470c-9370-d59cae9be8ad"
      },
      "execution_count": null,
      "outputs": [
        {
          "output_type": "stream",
          "name": "stdout",
          "text": [
            "<class 'pandas.core.frame.DataFrame'>\n",
            "RangeIndex: 200 entries, 0 to 199\n",
            "Data columns (total 12 columns):\n",
            " #   Column                 Non-Null Count  Dtype  \n",
            "---  ------                 --------------  -----  \n",
            " 0   Date                   200 non-null    object \n",
            " 1   Time                   200 non-null    object \n",
            " 2   Item                   200 non-null    object \n",
            " 3   Price                  200 non-null    float64\n",
            " 4   Quantity               200 non-null    int64  \n",
            " 5   Total                  200 non-null    float64\n",
            " 6   Customer ID            200 non-null    int64  \n",
            " 7   Payment Method         200 non-null    object \n",
            " 8   Employee ID            200 non-null    int64  \n",
            " 9   Customer Satisfaction  200 non-null    int64  \n",
            " 10  Weather                200 non-null    object \n",
            " 11  Special Offers         200 non-null    object \n",
            "dtypes: float64(2), int64(4), object(6)\n",
            "memory usage: 18.9+ KB\n",
            "None\n"
          ]
        }
      ]
    },
    {
      "cell_type": "code",
      "source": [
        "# Here I will use the command describe to obtain mathematics information like the mean price of total order, as well as the minimum and the maximum values."
      ],
      "metadata": {
        "id": "o_hRRJL2Z4Sq"
      },
      "execution_count": null,
      "outputs": []
    },
    {
      "cell_type": "code",
      "source": [
        "print(canteen.describe())"
      ],
      "metadata": {
        "colab": {
          "base_uri": "https://localhost:8080/"
        },
        "id": "RrWA2LYqOU1l",
        "outputId": "8cf88865-6d04-4cf0-c817-d088e995f321"
      },
      "execution_count": null,
      "outputs": [
        {
          "output_type": "stream",
          "name": "stdout",
          "text": [
            "            Price    Quantity       Total  Customer ID  Employee ID  \\\n",
            "count  200.000000  200.000000  200.000000   200.000000   200.000000   \n",
            "mean     4.125000    1.365000    5.910000   100.500000   200.500000   \n",
            "std      1.560143    0.482638    3.359813    57.879185    57.879185   \n",
            "min      1.500000    1.000000    1.500000     1.000000   101.000000   \n",
            "25%      3.750000    1.000000    4.125000    50.750000   150.750000   \n",
            "50%      4.750000    1.000000    5.000000   100.500000   200.500000   \n",
            "75%      5.125000    2.000000    9.000000   150.250000   250.250000   \n",
            "max      5.500000    2.000000   11.000000   200.000000   300.000000   \n",
            "\n",
            "       Customer Satisfaction  \n",
            "count             200.000000  \n",
            "mean                3.895000  \n",
            "std                 0.785532  \n",
            "min                 3.000000  \n",
            "25%                 3.000000  \n",
            "50%                 4.000000  \n",
            "75%                 5.000000  \n",
            "max                 5.000000  \n"
          ]
        }
      ]
    },
    {
      "cell_type": "code",
      "source": [
        "# After, thanks to the command canteen.isnull, I will ask if their is missing values in the dataset and obtain the number of missing value for each column."
      ],
      "metadata": {
        "id": "Ge2sp1NWaO1t"
      },
      "execution_count": null,
      "outputs": []
    },
    {
      "cell_type": "code",
      "source": [
        "print(\"\\nMissing values before handling:\")\n",
        "print(canteen.isnull().sum())"
      ],
      "metadata": {
        "colab": {
          "base_uri": "https://localhost:8080/"
        },
        "id": "xE_4dF-tNcuS",
        "outputId": "1463061f-be79-4b7f-bc49-267c7d489704"
      },
      "execution_count": null,
      "outputs": [
        {
          "output_type": "stream",
          "name": "stdout",
          "text": [
            "\n",
            "Missing values before handling:\n",
            "Date                     0\n",
            "Time                     0\n",
            "Item                     0\n",
            "Price                    0\n",
            "Quantity                 0\n",
            "Total                    0\n",
            "Customer ID              0\n",
            "Payment Method           0\n",
            "Employee ID              0\n",
            "Customer Satisfaction    0\n",
            "Weather                  0\n",
            "Special Offers           0\n",
            "dtype: int64\n"
          ]
        }
      ]
    },
    {
      "cell_type": "markdown",
      "source": [
        "2.2.3 Filter :"
      ],
      "metadata": {
        "id": "Sij8VuBGuS2W"
      }
    },
    {
      "cell_type": "code",
      "source": [
        "# In order to see which customer had discount thanks to special offers, I will filter the dataset with all the \"YES\" responses to Special Offers."
      ],
      "metadata": {
        "id": "4hVWGLpbd2v3"
      },
      "execution_count": null,
      "outputs": []
    },
    {
      "cell_type": "code",
      "source": [
        "special_offer_transactions = canteen[canteen[\"Special Offers\"] == \"Yes\"]\n",
        "print(\"Transactions with Special Offers\")\n",
        "print(special_offer_transactions[Customer_ID])"
      ],
      "metadata": {
        "colab": {
          "base_uri": "https://localhost:8080/"
        },
        "id": "KfIAx1k1b9uj",
        "outputId": "faa59403-a43a-429a-8c4e-d01de619ed66"
      },
      "execution_count": null,
      "outputs": [
        {
          "output_type": "stream",
          "name": "stdout",
          "text": [
            "Transactions with Special Offers\n",
            "0        1\n",
            "2        3\n",
            "4        5\n",
            "6        7\n",
            "8        9\n",
            "      ... \n",
            "191    192\n",
            "193    194\n",
            "195    196\n",
            "197    198\n",
            "199    200\n",
            "Name: Customer ID, Length: 100, dtype: int64\n"
          ]
        }
      ]
    },
    {
      "cell_type": "markdown",
      "source": [
        "2.2.4 Sort :"
      ],
      "metadata": {
        "id": "IQYoqnlIubNU"
      }
    },
    {
      "cell_type": "code",
      "source": [
        "# Now i will sort the Total earning values of the 12th April by descending (From the highest to lowest)"
      ],
      "metadata": {
        "id": "pZjwwkAof-zq"
      },
      "execution_count": null,
      "outputs": []
    },
    {
      "cell_type": "code",
      "source": [
        "sorted_transactions = canteen.sort_values(by=[\"Total\"], ascending=[False])\n",
        "print(\"Sorted Transactions\")\n",
        "print(sorted_transactions.loc[sorted_transactions[\"Date\"] == \"2024-04-08\"])"
      ],
      "metadata": {
        "colab": {
          "base_uri": "https://localhost:8080/"
        },
        "id": "qTa8FCRQdyYN",
        "outputId": "d264510f-8412-46f0-de1c-f4ad3625df8d"
      },
      "execution_count": null,
      "outputs": [
        {
          "output_type": "stream",
          "name": "stdout",
          "text": [
            "Sorted Transactions\n",
            "          Date   Time      Item  Price  Quantity  Total  Customer ID  \\\n",
            "59  2024-04-08  12:45    Burger    5.5         2   11.0           60   \n",
            "62  2024-04-08  13:30     Salad    5.0         2   10.0           63   \n",
            "56  2024-04-08  12:00  Sandwich    4.5         2    9.0           57   \n",
            "63  2024-04-08  13:45    Burger    5.5         1    5.5           64   \n",
            "58  2024-04-08  12:30     Salad    5.0         1    5.0           59   \n",
            "60  2024-04-08  13:00  Sandwich    4.5         1    4.5           61   \n",
            "61  2024-04-08  13:15     Drink    1.5         1    1.5           62   \n",
            "57  2024-04-08  12:15     Drink    1.5         1    1.5           58   \n",
            "\n",
            "    Payment Method  Employee ID  Customer Satisfaction Weather Special Offers  \n",
            "59  Mobile Payment          160                      4   Sunny            Yes  \n",
            "62  Mobile Payment          163                      4   Sunny             No  \n",
            "56  Mobile Payment          157                      4   Sunny             No  \n",
            "63            Cash          164                      3  Cloudy            Yes  \n",
            "58            Card          159                      5   Rainy             No  \n",
            "60            Cash          161                      3  Cloudy             No  \n",
            "61            Card          162                      5   Rainy            Yes  \n",
            "57            Cash          158                      3  Cloudy            Yes  \n"
          ]
        }
      ]
    },
    {
      "cell_type": "markdown",
      "source": [
        "2.2.5 Group :"
      ],
      "metadata": {
        "id": "j_i3fhKHu9Y2"
      }
    },
    {
      "cell_type": "code",
      "source": [
        "# I will use the function groupby to find the average earning by payment method"
      ],
      "metadata": {
        "id": "2XAOcf6TvHCU"
      },
      "execution_count": null,
      "outputs": []
    },
    {
      "cell_type": "code",
      "source": [
        "grouped_by_payment = canteen.groupby(\"Payment Method\")[\"Total\"].mean().reset_index()\n",
        "print(\"Average Total by Payment Method\")\n",
        "print(grouped_by_payment)"
      ],
      "metadata": {
        "colab": {
          "base_uri": "https://localhost:8080/"
        },
        "id": "vjPe8pxbu94j",
        "outputId": "583d0560-82e9-4cb1-c83c-f1e92254a2a0"
      },
      "execution_count": null,
      "outputs": [
        {
          "output_type": "stream",
          "name": "stdout",
          "text": [
            "Average Total by Payment Method\n",
            "   Payment Method     Total\n",
            "0            Card  6.970588\n",
            "1            Cash  4.762295\n",
            "2  Mobile Payment  5.880282\n"
          ]
        }
      ]
    },
    {
      "cell_type": "markdown",
      "source": [
        "**2.3 Mathematical Operations :**"
      ],
      "metadata": {
        "id": "lM8aFpF8xQRr"
      }
    },
    {
      "cell_type": "markdown",
      "source": [
        "2.3.1 Total sales :"
      ],
      "metadata": {
        "id": "VCZyzVkjOdRQ"
      }
    },
    {
      "cell_type": "code",
      "source": [
        "# My first mathematical Operation is the total sales"
      ],
      "metadata": {
        "id": "RP7AlXHlC_-A"
      },
      "execution_count": null,
      "outputs": []
    },
    {
      "cell_type": "code",
      "source": [
        "total_sales = canteen[\"Total\"].sum()\n",
        "print(f\"Total Sales : {total_sales}$\")"
      ],
      "metadata": {
        "colab": {
          "base_uri": "https://localhost:8080/"
        },
        "id": "OK7wi62EwL7s",
        "outputId": "329a9feb-4e88-4fcb-d53c-dadeb174eb3b"
      },
      "execution_count": null,
      "outputs": [
        {
          "output_type": "stream",
          "name": "stdout",
          "text": [
            "Total Sales : 1182.0$\n"
          ]
        }
      ]
    },
    {
      "cell_type": "markdown",
      "source": [
        "2.3.2 Average item price :"
      ],
      "metadata": {
        "id": "FgOliNQ6Oiw5"
      }
    },
    {
      "cell_type": "code",
      "source": [
        "average_price_pandas = canteen[\"Price\"].mean()\n",
        "print(f\"Average Item Price : {average_price_pandas}$\")"
      ],
      "metadata": {
        "colab": {
          "base_uri": "https://localhost:8080/"
        },
        "id": "v92m9XMqKF5Q",
        "outputId": "c5730210-357b-4754-f528-5abaccb21f1b"
      },
      "execution_count": null,
      "outputs": [
        {
          "output_type": "stream",
          "name": "stdout",
          "text": [
            "Average Item Price : 4.125$\n"
          ]
        }
      ]
    },
    {
      "cell_type": "markdown",
      "source": [
        "2.3.3 Weight  of different Payment Method in Percentages :"
      ],
      "metadata": {
        "id": "llZXmh6BOqjv"
      }
    },
    {
      "cell_type": "code",
      "source": [
        "# Calculate the percentage of each payment method used"
      ],
      "metadata": {
        "id": "H0QojeFBOYC-"
      },
      "execution_count": null,
      "outputs": []
    },
    {
      "cell_type": "code",
      "source": [
        "payment_counts = canteen[\"Payment Method\"].value_counts()\n",
        "payment_percentages = (payment_counts / len(canteen)) * 100\n",
        "print(\"Payment Method in Percentages\")\n",
        "print(payment_percentages)"
      ],
      "metadata": {
        "colab": {
          "base_uri": "https://localhost:8080/"
        },
        "id": "W6LDyhCrNFVr",
        "outputId": "ea019180-908f-4b88-dad5-deeb3efde12e"
      },
      "execution_count": null,
      "outputs": [
        {
          "output_type": "stream",
          "name": "stdout",
          "text": [
            "Payment Method in Percentages\n",
            "Payment Method\n",
            "Mobile Payment    35.5\n",
            "Card              34.0\n",
            "Cash              30.5\n",
            "Name: count, dtype: float64\n"
          ]
        }
      ]
    },
    {
      "cell_type": "markdown",
      "source": [
        "**2.4 Data visualization :**"
      ],
      "metadata": {
        "id": "ciXL3gEQc2_8"
      }
    },
    {
      "cell_type": "code",
      "source": [
        "import matplotlib.pyplot as plt\n",
        "import seaborn as sns"
      ],
      "metadata": {
        "id": "XWqJ3RO2tyzq"
      },
      "execution_count": 96,
      "outputs": []
    },
    {
      "cell_type": "code",
      "source": [
        "sales_by_item = canteen.groupby(\"Item\")[\"Total\"].sum().sort_values()\n",
        "plt.figure(figsize=(10, 6))\n",
        "sales_by_item.plot(kind='bar', color=sns.color_palette(\"viridis\"))\n",
        "plt.title(\"Total Sales by Item\")\n",
        "plt.xlabel(\"Item\")\n",
        "plt.ylabel(\"Total Sales ($)\")\n",
        "plt.xticks(rotation=45)\n",
        "plt.tight_layout()\n",
        "plt.show()"
      ],
      "metadata": {
        "colab": {
          "base_uri": "https://localhost:8080/",
          "height": 607
        },
        "id": "GMGHAvu9tmLl",
        "outputId": "eeae5bf2-7434-445b-c894-58d5107dccf4"
      },
      "execution_count": 98,
      "outputs": [
        {
          "output_type": "display_data",
          "data": {
            "text/plain": [
              "<Figure size 1000x600 with 1 Axes>"
            ],
            "image/png": "[encoded data removed]"
          },
          "metadata": {}
        }
      ]
    }
  ]
}